{
 "cells": [
  {
   "cell_type": "code",
   "execution_count": 1,
   "id": "96e0a171",
   "metadata": {
    "_cell_guid": "b1076dfc-b9ad-4769-8c92-a6c4dae69d19",
    "_uuid": "8f2839f25d086af736a60e9eeb907d3b93b6e0e5",
    "execution": {
     "iopub.execute_input": "2025-10-30T19:00:13.791424Z",
     "iopub.status.busy": "2025-10-30T19:00:13.791112Z",
     "iopub.status.idle": "2025-10-30T19:00:21.935289Z",
     "shell.execute_reply": "2025-10-30T19:00:21.934506Z"
    },
    "papermill": {
     "duration": 8.149677,
     "end_time": "2025-10-30T19:00:21.936509",
     "exception": false,
     "start_time": "2025-10-30T19:00:13.786832",
     "status": "completed"
    },
    "tags": []
   },
   "outputs": [
    {
     "name": "stdout",
     "output_type": "stream",
     "text": [
      "Libraries imported successfully.\n"
     ]
    }
   ],
   "source": [
    "import pandas as pd\n",
    "import numpy as np\n",
    "import matplotlib.pyplot as plt\n",
    "import seaborn as sns\n",
    "import lightgbm as lgb\n",
    "from sklearn.impute import SimpleImputer\n",
    "from sklearn.model_selection import TimeSeriesSplit\n",
    "from sklearn.metrics import mean_squared_error\n",
    "import warnings\n",
    "import os\n",
    "\n",
    "# Suppress warnings\n",
    "warnings.filterwarnings('ignore')\n",
    "\n",
    "# Set plot style\n",
    "sns.set(style=\"whitegrid\")\n",
    "\n",
    "print(\"Libraries imported successfully.\")"
   ]
  },
  {
   "cell_type": "code",
   "execution_count": 2,
   "id": "2dea2ee3",
   "metadata": {
    "execution": {
     "iopub.execute_input": "2025-10-30T19:00:21.942822Z",
     "iopub.status.busy": "2025-10-30T19:00:21.942031Z",
     "iopub.status.idle": "2025-10-30T19:00:22.300049Z",
     "shell.execute_reply": "2025-10-30T19:00:22.299283Z"
    },
    "papermill": {
     "duration": 0.362874,
     "end_time": "2025-10-30T19:00:22.301841",
     "exception": false,
     "start_time": "2025-10-30T19:00:21.938967",
     "status": "completed"
    },
    "tags": []
   },
   "outputs": [
    {
     "name": "stdout",
     "output_type": "stream",
     "text": [
      "Data loaded successfully.\n",
      "Train shape: (8990, 98)\n",
      "Test shape: (10, 99)\n",
      "\n",
      "--- Train Info ---\n",
      "<class 'pandas.core.frame.DataFrame'>\n",
      "RangeIndex: 8990 entries, 0 to 8989\n",
      "Data columns (total 98 columns):\n",
      " #   Column                         Non-Null Count  Dtype  \n",
      "---  ------                         --------------  -----  \n",
      " 0   date_id                        8990 non-null   int64  \n",
      " 1   D1                             8990 non-null   int64  \n",
      " 2   D2                             8990 non-null   int64  \n",
      " 3   D3                             8990 non-null   int64  \n",
      " 4   D4                             8990 non-null   int64  \n",
      " 5   D5                             8990 non-null   int64  \n",
      " 6   D6                             8990 non-null   int64  \n",
      " 7   D7                             8990 non-null   int64  \n",
      " 8   D8                             8990 non-null   int64  \n",
      " 9   D9                             8990 non-null   int64  \n",
      " 10  E1                             7206 non-null   float64\n",
      " 11  E10                            7984 non-null   float64\n",
      " 12  E11                            7984 non-null   float64\n",
      " 13  E12                            7984 non-null   float64\n",
      " 14  E13                            7984 non-null   float64\n",
      " 15  E14                            7984 non-null   float64\n",
      " 16  E15                            7984 non-null   float64\n",
      " 17  E16                            7984 non-null   float64\n",
      " 18  E17                            7984 non-null   float64\n",
      " 19  E18                            7984 non-null   float64\n",
      " 20  E19                            7984 non-null   float64\n",
      " 21  E2                             7984 non-null   float64\n",
      " 22  E20                            7374 non-null   float64\n",
      " 23  E3                             7984 non-null   float64\n",
      " 24  E4                             7984 non-null   float64\n",
      " 25  E5                             7984 non-null   float64\n",
      " 26  E6                             7984 non-null   float64\n",
      " 27  E7                             2021 non-null   float64\n",
      " 28  E8                             7984 non-null   float64\n",
      " 29  E9                             7984 non-null   float64\n",
      " 30  I1                             7984 non-null   float64\n",
      " 31  I2                             7984 non-null   float64\n",
      " 32  I3                             7984 non-null   float64\n",
      " 33  I4                             7984 non-null   float64\n",
      " 34  I5                             7984 non-null   float64\n",
      " 35  I6                             7984 non-null   float64\n",
      " 36  I7                             7984 non-null   float64\n",
      " 37  I8                             7984 non-null   float64\n",
      " 38  I9                             7984 non-null   float64\n",
      " 39  M1                             3443 non-null   float64\n",
      " 40  M10                            7984 non-null   float64\n",
      " 41  M11                            7984 non-null   float64\n",
      " 42  M12                            7984 non-null   float64\n",
      " 43  M13                            3450 non-null   float64\n",
      " 44  M14                            3450 non-null   float64\n",
      " 45  M15                            7984 non-null   float64\n",
      " 46  M16                            7984 non-null   float64\n",
      " 47  M17                            7984 non-null   float64\n",
      " 48  M18                            7984 non-null   float64\n",
      " 49  M2                             5773 non-null   float64\n",
      " 50  M3                             6972 non-null   float64\n",
      " 51  M4                             7984 non-null   float64\n",
      " 52  M5                             5707 non-null   float64\n",
      " 53  M6                             3947 non-null   float64\n",
      " 54  M7                             7984 non-null   float64\n",
      " 55  M8                             7984 non-null   float64\n",
      " 56  M9                             7984 non-null   float64\n",
      " 57  P1                             7984 non-null   float64\n",
      " 58  P10                            7984 non-null   float64\n",
      " 59  P11                            7984 non-null   float64\n",
      " 60  P12                            7984 non-null   float64\n",
      " 61  P13                            7984 non-null   float64\n",
      " 62  P2                             7984 non-null   float64\n",
      " 63  P3                             7984 non-null   float64\n",
      " 64  P4                             7984 non-null   float64\n",
      " 65  P5                             7416 non-null   float64\n",
      " 66  P6                             7352 non-null   float64\n",
      " 67  P7                             7374 non-null   float64\n",
      " 68  P8                             7984 non-null   float64\n",
      " 69  P9                             7984 non-null   float64\n",
      " 70  S1                             7984 non-null   float64\n",
      " 71  S10                            7984 non-null   float64\n",
      " 72  S11                            7984 non-null   float64\n",
      " 73  S12                            5453 non-null   float64\n",
      " 74  S2                             7984 non-null   float64\n",
      " 75  S3                             3257 non-null   float64\n",
      " 76  S4                             7984 non-null   float64\n",
      " 77  S5                             7479 non-null   float64\n",
      " 78  S6                             7984 non-null   float64\n",
      " 79  S7                             7984 non-null   float64\n",
      " 80  S8                             5981 non-null   float64\n",
      " 81  S9                             7984 non-null   float64\n",
      " 82  V1                             7984 non-null   float64\n",
      " 83  V10                            2941 non-null   float64\n",
      " 84  V11                            7984 non-null   float64\n",
      " 85  V12                            7984 non-null   float64\n",
      " 86  V13                            7479 non-null   float64\n",
      " 87  V2                             7984 non-null   float64\n",
      " 88  V3                             7984 non-null   float64\n",
      " 89  V4                             7984 non-null   float64\n",
      " 90  V5                             7478 non-null   float64\n",
      " 91  V6                             7984 non-null   float64\n",
      " 92  V7                             7479 non-null   float64\n",
      " 93  V8                             7984 non-null   float64\n",
      " 94  V9                             4451 non-null   float64\n",
      " 95  forward_returns                8990 non-null   float64\n",
      " 96  risk_free_rate                 8990 non-null   float64\n",
      " 97  market_forward_excess_returns  8990 non-null   float64\n",
      "dtypes: float64(88), int64(10)\n",
      "memory usage: 6.7 MB\n",
      "\n",
      "--- Test Info ---\n",
      "<class 'pandas.core.frame.DataFrame'>\n",
      "RangeIndex: 10 entries, 0 to 9\n",
      "Data columns (total 99 columns):\n",
      " #   Column                                Non-Null Count  Dtype  \n",
      "---  ------                                --------------  -----  \n",
      " 0   date_id                               10 non-null     int64  \n",
      " 1   D1                                    10 non-null     int64  \n",
      " 2   D2                                    10 non-null     int64  \n",
      " 3   D3                                    10 non-null     int64  \n",
      " 4   D4                                    10 non-null     int64  \n",
      " 5   D5                                    10 non-null     int64  \n",
      " 6   D6                                    10 non-null     int64  \n",
      " 7   D7                                    10 non-null     int64  \n",
      " 8   D8                                    10 non-null     int64  \n",
      " 9   D9                                    10 non-null     int64  \n",
      " 10  E1                                    10 non-null     float64\n",
      " 11  E10                                   10 non-null     float64\n",
      " 12  E11                                   10 non-null     float64\n",
      " 13  E12                                   10 non-null     float64\n",
      " 14  E13                                   10 non-null     float64\n",
      " 15  E14                                   10 non-null     float64\n",
      " 16  E15                                   10 non-null     float64\n",
      " 17  E16                                   10 non-null     float64\n",
      " 18  E17                                   10 non-null     float64\n",
      " 19  E18                                   10 non-null     float64\n",
      " 20  E19                                   10 non-null     float64\n",
      " 21  E2                                    10 non-null     float64\n",
      " 22  E20                                   10 non-null     float64\n",
      " 23  E3                                    10 non-null     float64\n",
      " 24  E4                                    10 non-null     float64\n",
      " 25  E5                                    10 non-null     float64\n",
      " 26  E6                                    10 non-null     float64\n",
      " 27  E7                                    10 non-null     float64\n",
      " 28  E8                                    10 non-null     float64\n",
      " 29  E9                                    10 non-null     float64\n",
      " 30  I1                                    10 non-null     float64\n",
      " 31  I2                                    10 non-null     float64\n",
      " 32  I3                                    10 non-null     float64\n",
      " 33  I4                                    10 non-null     float64\n",
      " 34  I5                                    10 non-null     float64\n",
      " 35  I6                                    10 non-null     float64\n",
      " 36  I7                                    10 non-null     float64\n",
      " 37  I8                                    10 non-null     float64\n",
      " 38  I9                                    10 non-null     float64\n",
      " 39  M1                                    10 non-null     float64\n",
      " 40  M10                                   10 non-null     float64\n",
      " 41  M11                                   10 non-null     float64\n",
      " 42  M12                                   10 non-null     float64\n",
      " 43  M13                                   10 non-null     float64\n",
      " 44  M14                                   10 non-null     float64\n",
      " 45  M15                                   10 non-null     float64\n",
      " 46  M16                                   10 non-null     float64\n",
      " 47  M17                                   10 non-null     float64\n",
      " 48  M18                                   10 non-null     float64\n",
      " 49  M2                                    10 non-null     float64\n",
      " 50  M3                                    10 non-null     float64\n",
      " 51  M4                                    10 non-null     float64\n",
      " 52  M5                                    10 non-null     float64\n",
      " 53  M6                                    10 non-null     float64\n",
      " 54  M7                                    10 non-null     float64\n",
      " 55  M8                                    10 non-null     float64\n",
      " 56  M9                                    10 non-null     float64\n",
      " 57  P1                                    10 non-null     float64\n",
      " 58  P10                                   10 non-null     float64\n",
      " 59  P11                                   10 non-null     float64\n",
      " 60  P12                                   10 non-null     float64\n",
      " 61  P13                                   10 non-null     float64\n",
      " 62  P2                                    10 non-null     float64\n",
      " 63  P3                                    10 non-null     float64\n",
      " 64  P4                                    10 non-null     float64\n",
      " 65  P5                                    10 non-null     float64\n",
      " 66  P6                                    10 non-null     float64\n",
      " 67  P7                                    10 non-null     float64\n",
      " 68  P8                                    10 non-null     float64\n",
      " 69  P9                                    10 non-null     float64\n",
      " 70  S1                                    10 non-null     float64\n",
      " 71  S10                                   10 non-null     float64\n",
      " 72  S11                                   10 non-null     float64\n",
      " 73  S12                                   10 non-null     float64\n",
      " 74  S2                                    10 non-null     float64\n",
      " 75  S3                                    10 non-null     float64\n",
      " 76  S4                                    10 non-null     float64\n",
      " 77  S5                                    10 non-null     float64\n",
      " 78  S6                                    10 non-null     float64\n",
      " 79  S7                                    10 non-null     float64\n",
      " 80  S8                                    10 non-null     float64\n",
      " 81  S9                                    10 non-null     float64\n",
      " 82  V1                                    10 non-null     float64\n",
      " 83  V10                                   10 non-null     float64\n",
      " 84  V11                                   10 non-null     float64\n",
      " 85  V12                                   10 non-null     float64\n",
      " 86  V13                                   10 non-null     float64\n",
      " 87  V2                                    10 non-null     float64\n",
      " 88  V3                                    10 non-null     float64\n",
      " 89  V4                                    10 non-null     float64\n",
      " 90  V5                                    10 non-null     float64\n",
      " 91  V6                                    10 non-null     float64\n",
      " 92  V7                                    10 non-null     float64\n",
      " 93  V8                                    10 non-null     float64\n",
      " 94  V9                                    10 non-null     float64\n",
      " 95  is_scored                             10 non-null     bool   \n",
      " 96  lagged_forward_returns                10 non-null     float64\n",
      " 97  lagged_risk_free_rate                 10 non-null     float64\n",
      " 98  lagged_market_forward_excess_returns  10 non-null     float64\n",
      "dtypes: bool(1), float64(88), int64(10)\n",
      "memory usage: 7.8 KB\n",
      "\n",
      "--- Train Head ---\n",
      "   date_id  D1  D2  D3  D4  D5  D6  D7  D8  D9  ...  V3  V4  V5  V6  V7  V8  \\\n",
      "0        0   0   0   0   1   1   0   0   0   1  ... NaN NaN NaN NaN NaN NaN   \n",
      "1        1   0   0   0   1   1   0   0   0   1  ... NaN NaN NaN NaN NaN NaN   \n",
      "2        2   0   0   0   1   0   0   0   0   1  ... NaN NaN NaN NaN NaN NaN   \n",
      "3        3   0   0   0   1   0   0   0   0   0  ... NaN NaN NaN NaN NaN NaN   \n",
      "4        4   0   0   0   1   0   0   0   0   0  ... NaN NaN NaN NaN NaN NaN   \n",
      "\n",
      "   V9  forward_returns  risk_free_rate  market_forward_excess_returns  \n",
      "0 NaN        -0.002421        0.000301                      -0.003038  \n",
      "1 NaN        -0.008495        0.000303                      -0.009114  \n",
      "2 NaN        -0.009624        0.000301                      -0.010243  \n",
      "3 NaN         0.004662        0.000299                       0.004046  \n",
      "4 NaN        -0.011686        0.000299                      -0.012301  \n",
      "\n",
      "[5 rows x 98 columns]\n",
      "\n",
      "--- Test Head ---\n",
      "   date_id  D1  D2  D3  D4  D5  D6  D7  D8  D9  ...        V4        V5  \\\n",
      "0     8980   0   0   0   0   1   0   0   1   0  ...  0.828042  0.999172   \n",
      "1     8981   0   0   0   0   1   0   0   1   0  ...  0.831349  1.120336   \n",
      "2     8982   0   0   0   0   1   0   0   0   1  ...  0.832672  1.088992   \n",
      "3     8983   0   0   0   0   1   0   0   0   1  ...  0.835979  1.040988   \n",
      "4     8984   0   0   0   0   0   0   1   0   1  ...  0.839947  0.944593   \n",
      "\n",
      "         V6        V7        V8        V9  is_scored  lagged_forward_returns  \\\n",
      "0  0.759921 -0.803127  0.170966 -0.751909       True                0.003541   \n",
      "1  0.556217 -0.686192  0.141865 -0.660326       True               -0.005964   \n",
      "2  0.665344 -0.459367  0.199405 -0.510979       True               -0.007410   \n",
      "3  0.594577 -0.561643  0.161706 -0.575997       True                0.005420   \n",
      "4  0.715608 -0.692649  0.124669 -0.654045       True                0.008357   \n",
      "\n",
      "   lagged_risk_free_rate  lagged_market_forward_excess_returns  \n",
      "0               0.000161                              0.003068  \n",
      "1               0.000162                             -0.006437  \n",
      "2               0.000160                             -0.007882  \n",
      "3               0.000160                              0.004949  \n",
      "4               0.000159                              0.007887  \n",
      "\n",
      "[5 rows x 99 columns]\n"
     ]
    }
   ],
   "source": [
    "# Define file paths\n",
    "# Make sure 'train23.csv' and 'test23.csv' are in the same directory\n",
    "TRAIN_FILE = '/kaggle/input/hull-tactical-market-prediction/train.csv'\n",
    "TEST_FILE = '/kaggle/input/hull-tactical-market-prediction/test.csv'\n",
    "\n",
    "# Load the datasets\n",
    "try:\n",
    "    train_df = pd.read_csv(TRAIN_FILE)\n",
    "    test_df = pd.read_csv(TEST_FILE)\n",
    "\n",
    "    print(\"Data loaded successfully.\")\n",
    "    print(f\"Train shape: {train_df.shape}\")\n",
    "    print(f\"Test shape: {test_df.shape}\")\n",
    "\n",
    "    print(\"\\n--- Train Info ---\")\n",
    "    train_df.info()\n",
    "\n",
    "    print(\"\\n--- Test Info ---\")\n",
    "    test_df.info()\n",
    "\n",
    "    print(\"\\n--- Train Head ---\")\n",
    "    print(train_df.head())\n",
    "\n",
    "    print(\"\\n--- Test Head ---\")\n",
    "    print(test_df.head())\n",
    "\n",
    "except FileNotFoundError:\n",
    "    print(\"Error: train23.csv or test23.csv not found.\")\n",
    "    print(\"Please ensure the files are in the correct directory.\")"
   ]
  },
  {
   "cell_type": "code",
   "execution_count": 3,
   "id": "b49796b9",
   "metadata": {
    "execution": {
     "iopub.execute_input": "2025-10-30T19:00:22.308739Z",
     "iopub.status.busy": "2025-10-30T19:00:22.308501Z",
     "iopub.status.idle": "2025-10-30T19:00:23.741704Z",
     "shell.execute_reply": "2025-10-30T19:00:23.740913Z"
    },
    "papermill": {
     "duration": 1.439269,
     "end_time": "2025-10-30T19:00:23.744421",
     "exception": false,
     "start_time": "2025-10-30T19:00:22.305152",
     "status": "completed"
    },
    "tags": []
   },
   "outputs": [
    {
     "data": {
      "image/png": "[encoded data removed]",
      "text/plain": [
       "<Figure size 1200x600 with 1 Axes>"
      ]
     },
     "metadata": {},
     "output_type": "display_data"
    },
    {
     "name": "stdout",
     "output_type": "stream",
     "text": [
      "Target variable distribution plot saved as 'target_distribution.png'\n"
     ]
    },
    {
     "data": {
      "image/png": "[encoded data removed]",
      "text/plain": [
       "<Figure size 1200x600 with 1 Axes>"
      ]
     },
     "metadata": {},
     "output_type": "display_data"
    },
    {
     "name": "stdout",
     "output_type": "stream",
     "text": [
      "Target variable over time plot saved as 'target_over_time.png'\n"
     ]
    }
   ],
   "source": [
    "# Define the target column\n",
    "TARGET_COL = 'market_forward_excess_returns'\n",
    "\n",
    "# Check if target column exists\n",
    "if TARGET_COL in train_df.columns:\n",
    "    # Plot the distribution of the target variable\n",
    "    plt.figure(figsize=(12, 6))\n",
    "    sns.histplot(train_df[TARGET_COL], bins=100, kde=True)\n",
    "    plt.title('Distribution of Target Variable (market_forward_excess_returns)')\n",
    "    plt.xlabel('Excess Return')\n",
    "    plt.ylabel('Frequency')\n",
    "    plt.savefig('target_distribution.png')\n",
    "    plt.show()\n",
    "    plt.close()\n",
    "    print(\"Target variable distribution plot saved as 'target_distribution.png'\")\n",
    "\n",
    "    # Plot target variable over time (date_id)\n",
    "    plt.figure(figsize=(12, 6))\n",
    "    train_df.set_index('date_id')[TARGET_COL].plot()\n",
    "    plt.title('Target Variable over Time')\n",
    "    plt.xlabel('Date ID')\n",
    "    plt.ylabel('Excess Return')\n",
    "    plt.savefig('target_over_time.png')\n",
    "    plt.show()\n",
    "    plt.close()\n",
    "    print(\"Target variable over time plot saved as 'target_over_time.png'\")\n",
    "\n",
    "else:\n",
    "    print(f\"Error: Target column '{TARGET_COL}' not found in training data.\")"
   ]
  },
  {
   "cell_type": "code",
   "execution_count": 4,
   "id": "133a8886",
   "metadata": {
    "execution": {
     "iopub.execute_input": "2025-10-30T19:00:23.755066Z",
     "iopub.status.busy": "2025-10-30T19:00:23.754408Z",
     "iopub.status.idle": "2025-10-30T19:00:24.442658Z",
     "shell.execute_reply": "2025-10-30T19:00:24.441322Z"
    },
    "papermill": {
     "duration": 0.695406,
     "end_time": "2025-10-30T19:00:24.444716",
     "exception": false,
     "start_time": "2025-10-30T19:00:23.749310",
     "status": "completed"
    },
    "tags": []
   },
   "outputs": [
    {
     "name": "stdout",
     "output_type": "stream",
     "text": [
      "Missing data bar plot saved as 'missing_data_barplot.png'\n",
      "\n",
      "Missing Data Summary (Top 10):\n",
      "E7     77.519466\n",
      "V10    67.285873\n",
      "S3     63.770857\n",
      "M1     61.701891\n",
      "M13    61.624027\n",
      "M14    61.624027\n",
      "M6     56.095662\n",
      "V9     50.489433\n",
      "S12    39.343715\n",
      "M5     36.518354\n",
      "dtype: float64\n"
     ]
    }
   ],
   "source": [
    "# Calculate percentage of missing values for each column in train_df\n",
    "missing_pct = (train_df.isnull().sum() / len(train_df)) * 100\n",
    "missing_pct = missing_pct.sort_values(ascending=False)\n",
    "\n",
    "# Plot the top 50 columns with missing data\n",
    "plt.figure(figsize=(15, 10))\n",
    "missing_pct.head(50).plot(kind='bar')\n",
    "plt.title('Top 50 Columns by Percentage of Missing Data (Train Set)')\n",
    "plt.xlabel('Columns')\n",
    "plt.ylabel('Percentage Missing (%)')\n",
    "plt.tight_layout()\n",
    "plt.savefig('missing_data_barplot.png')\n",
    "plt.close()\n",
    "print(\"Missing data bar plot saved as 'missing_data_barplot.png'\")\n",
    "\n",
    "# Show a summary\n",
    "print(\"\\nMissing Data Summary (Top 10):\")\n",
    "print(missing_pct.head(10))"
   ]
  },
  {
   "cell_type": "code",
   "execution_count": 5,
   "id": "52bd7e29",
   "metadata": {
    "execution": {
     "iopub.execute_input": "2025-10-30T19:00:24.459023Z",
     "iopub.status.busy": "2025-10-30T19:00:24.458141Z",
     "iopub.status.idle": "2025-10-30T19:00:24.472912Z",
     "shell.execute_reply": "2025-10-30T19:00:24.471555Z"
    },
    "papermill": {
     "duration": 0.024464,
     "end_time": "2025-10-30T19:00:24.475065",
     "exception": false,
     "start_time": "2025-10-30T19:00:24.450601",
     "status": "completed"
    },
    "tags": []
   },
   "outputs": [
    {
     "name": "stdout",
     "output_type": "stream",
     "text": [
      "Created lagged features in the training set.\n",
      "   forward_returns  lagged_forward_returns  market_forward_excess_returns  \\\n",
      "0        -0.002421                     NaN                      -0.003038   \n",
      "1        -0.008495               -0.002421                      -0.009114   \n",
      "2        -0.009624               -0.008495                      -0.010243   \n",
      "3         0.004662               -0.009624                       0.004046   \n",
      "4        -0.011686                0.004662                      -0.012301   \n",
      "\n",
      "   lagged_market_forward_excess_returns  \n",
      "0                                   NaN  \n",
      "1                             -0.003038  \n",
      "2                             -0.009114  \n",
      "3                             -0.010243  \n",
      "4                              0.004046  \n"
     ]
    }
   ],
   "source": [
    "# Create lagged features in the training set\n",
    "# We shift by 1 to represent the 'lagged' nature\n",
    "train_df['lagged_forward_returns'] = train_df['forward_returns'].shift(1)\n",
    "train_df['lagged_risk_free_rate'] = train_df['risk_free_rate'].shift(1)\n",
    "train_df['lagged_market_forward_excess_returns'] = train_df[TARGET_COL].shift(1)\n",
    "\n",
    "print(\"Created lagged features in the training set.\")\n",
    "print(train_df[['forward_returns', 'lagged_forward_returns', TARGET_COL, 'lagged_market_forward_excess_returns']].head())"
   ]
  },
  {
   "cell_type": "code",
   "execution_count": 6,
   "id": "c19584ed",
   "metadata": {
    "execution": {
     "iopub.execute_input": "2025-10-30T19:00:24.489690Z",
     "iopub.status.busy": "2025-10-30T19:00:24.489434Z",
     "iopub.status.idle": "2025-10-30T19:00:24.504188Z",
     "shell.execute_reply": "2025-10-30T19:00:24.503006Z"
    },
    "papermill": {
     "duration": 0.024769,
     "end_time": "2025-10-30T19:00:24.506127",
     "exception": false,
     "start_time": "2025-10-30T19:00:24.481358",
     "status": "completed"
    },
    "tags": []
   },
   "outputs": [
    {
     "name": "stdout",
     "output_type": "stream",
     "text": [
      "Dropped 1 rows with NaN in target or lagged features.\n",
      "Final training features shape: (8989, 97)\n",
      "Final training target shape: (8989,)\n"
     ]
    }
   ],
   "source": [
    "# Define the feature list from the columns available in the test set\n",
    "# This ensures we only train on data that will be available at prediction time\n",
    "FEATURES = [col for col in test_df.columns if col not in ['date_id', 'is_scored']]\n",
    "\n",
    "# Drop rows in train_df where the target or the new lagged features are NaN\n",
    "# These rows cannot be used for training\n",
    "original_rows = len(train_df)\n",
    "train_df = train_df.dropna(subset=[TARGET_COL] + ['lagged_forward_returns', 'lagged_risk_free_rate', 'lagged_market_forward_excess_returns'])\n",
    "new_rows = len(train_df)\n",
    "print(f\"Dropped {original_rows - new_rows} rows with NaN in target or lagged features.\")\n",
    "\n",
    "# Define our final X and y\n",
    "X_train = train_df[FEATURES]\n",
    "y_train = train_df[TARGET_COL]\n",
    "\n",
    "print(f\"Final training features shape: {X_train.shape}\")\n",
    "print(f\"Final training target shape: {y_train.shape}\")"
   ]
  },
  {
   "cell_type": "code",
   "execution_count": 7,
   "id": "45afeba5",
   "metadata": {
    "execution": {
     "iopub.execute_input": "2025-10-30T19:00:24.524779Z",
     "iopub.status.busy": "2025-10-30T19:00:24.524011Z",
     "iopub.status.idle": "2025-10-30T19:00:27.501321Z",
     "shell.execute_reply": "2025-10-30T19:00:27.500657Z"
    },
    "papermill": {
     "duration": 2.98752,
     "end_time": "2025-10-30T19:00:27.502722",
     "exception": false,
     "start_time": "2025-10-30T19:00:24.515202",
     "status": "completed"
    },
    "tags": []
   },
   "outputs": [
    {
     "name": "stdout",
     "output_type": "stream",
     "text": [
      "Fitting imputer on training data...\n",
      "Training data imputed.\n",
      "Training LightGBM model...\n",
      "[LightGBM] [Info] Auto-choosing col-wise multi-threading, the overhead of testing was 0.005385 seconds.\n",
      "You can set `force_col_wise=true` to remove the overhead.\n",
      "[LightGBM] [Info] Total Bins 22332\n",
      "[LightGBM] [Info] Number of data points in the train set: 8989, number of used features: 97\n",
      "[LightGBM] [Info] Start training from score 0.000253\n",
      "Model training complete.\n"
     ]
    }
   ],
   "source": [
    "# Initialize the Imputer\n",
    "# We use 'mean' strategy as a robust baseline\n",
    "imputer = SimpleImputer(strategy='mean')\n",
    "\n",
    "# Fit the imputer on the training features\n",
    "print(\"Fitting imputer on training data...\")\n",
    "imputer.fit(X_train)\n",
    "\n",
    "# Transform the training data\n",
    "X_train_imputed = imputer.transform(X_train)\n",
    "print(\"Training data imputed.\")\n",
    "\n",
    "# Initialize the LightGBM Regressor\n",
    "# These are baseline parameters and can be tuned\n",
    "lgb_model = lgb.LGBMRegressor(\n",
    "    objective='regression_l1',  # MAE is often more robust to outliers than MSE (L2)\n",
    "    n_estimators=500,\n",
    "    learning_rate=0.05,\n",
    "    num_leaves=31,\n",
    "    subsample=0.8,\n",
    "    colsample_bytree=0.8,\n",
    "    random_state=42,\n",
    "    n_jobs=-1,\n",
    "    reg_alpha=0.1,\n",
    "    reg_lambda=0.1\n",
    ")\n",
    "\n",
    "# Train the model\n",
    "print(\"Training LightGBM model...\")\n",
    "lgb_model.fit(X_train_imputed, y_train)\n",
    "\n",
    "print(\"Model training complete.\")"
   ]
  },
  {
   "cell_type": "code",
   "execution_count": 8,
   "id": "0e321e26",
   "metadata": {
    "execution": {
     "iopub.execute_input": "2025-10-30T19:00:27.515451Z",
     "iopub.status.busy": "2025-10-30T19:00:27.515231Z",
     "iopub.status.idle": "2025-10-30T19:00:27.519996Z",
     "shell.execute_reply": "2025-10-30T19:00:27.518921Z"
    },
    "papermill": {
     "duration": 0.011849,
     "end_time": "2025-10-30T19:00:27.521178",
     "exception": false,
     "start_time": "2025-10-30T19:00:27.509329",
     "status": "completed"
    },
    "tags": []
   },
   "outputs": [
    {
     "name": "stdout",
     "output_type": "stream",
     "text": [
      "Betting strategy function 'get_allocation' defined.\n"
     ]
    }
   ],
   "source": [
    "# This scaling factor is a key hyperparameter you would tune\n",
    "# It controls how sensitive your allocation is to the predicted return\n",
    "SCALING_FACTOR = 100 \n",
    "\n",
    "def get_allocation(predicted_returns, scaling_factor=SCALING_FACTOR):\n",
    "    \"\"\"\n",
    "    Converts predicted returns into an allocation strategy.\n",
    "    \"\"\"\n",
    "    # Start with a neutral allocation\n",
    "    allocations = 1.0 + predicted_returns * scaling_factor\n",
    "    \n",
    "    # Clip the allocations to be within the allowed [0, 2] range\n",
    "    clipped_allocations = np.clip(allocations, 0.0, 2.0)\n",
    "    \n",
    "    return clipped_allocations\n",
    "\n",
    "print(\"Betting strategy function 'get_allocation' defined.\")"
   ]
  },
  {
   "cell_type": "code",
   "execution_count": 9,
   "id": "71acdd70",
   "metadata": {
    "execution": {
     "iopub.execute_input": "2025-10-30T19:00:27.531537Z",
     "iopub.status.busy": "2025-10-30T19:00:27.530851Z",
     "iopub.status.idle": "2025-10-30T19:00:27.549002Z",
     "shell.execute_reply": "2025-10-30T19:00:27.547446Z"
    },
    "papermill": {
     "duration": 0.024353,
     "end_time": "2025-10-30T19:00:27.550311",
     "exception": false,
     "start_time": "2025-10-30T19:00:27.525958",
     "status": "completed"
    },
    "tags": []
   },
   "outputs": [
    {
     "name": "stdout",
     "output_type": "stream",
     "text": [
      "Generating mock submission file...\n",
      "Mock 'submission.csv' created successfully.\n",
      "   date_id  allocation\n",
      "0     8980    0.871575\n",
      "1     8981    0.858492\n",
      "2     8982    1.511049\n",
      "3     8983    1.091603\n",
      "4     8984    0.932971\n"
     ]
    }
   ],
   "source": [
    "print(\"Generating mock submission file...\")\n",
    "\n",
    "# Get features from the mock test set\n",
    "X_test_mock = test_df[FEATURES]\n",
    "\n",
    "# Impute missing values using the *trained* imputer\n",
    "X_test_mock_imputed = imputer.transform(X_test_mock)\n",
    "\n",
    "# Predict returns\n",
    "predicted_returns_mock = lgb_model.predict(X_test_mock_imputed)\n",
    "\n",
    "# Convert predictions to allocations\n",
    "allocations_mock = get_allocation(predicted_returns_mock, scaling_factor=SCALING_FACTOR)\n",
    "\n",
    "# Create submission DataFrame\n",
    "submission_df = pd.DataFrame({\n",
    "    'date_id': test_df['date_id'],\n",
    "    'allocation': allocations_mock\n",
    "})\n",
    "\n",
    "# Save to submission.csv\n",
    "submission_df.to_csv('submission.csv', index=False)\n",
    "\n",
    "print(\"Mock 'submission.csv' created successfully.\")\n",
    "print(submission_df.head())"
   ]
  },
  {
   "cell_type": "code",
   "execution_count": 10,
   "id": "f0b00d44",
   "metadata": {
    "execution": {
     "iopub.execute_input": "2025-10-30T19:00:27.562527Z",
     "iopub.status.busy": "2025-10-30T19:00:27.562313Z",
     "iopub.status.idle": "2025-10-30T19:00:27.602368Z",
     "shell.execute_reply": "2025-10-30T19:00:27.601409Z"
    },
    "papermill": {
     "duration": 0.046636,
     "end_time": "2025-10-30T19:00:27.603446",
     "exception": false,
     "start_time": "2025-10-30T19:00:27.556810",
     "status": "completed"
    },
    "tags": []
   },
   "outputs": [
    {
     "name": "stdout",
     "output_type": "stream",
     "text": [
      "kaggle_evaluation API imported. Preparing for live submission...\n",
      "An error occurred during the API submission loop: module 'kaggle_evaluation' has no attribute 'make_env'\n"
     ]
    }
   ],
   "source": [
    "# This cell is for the official submission and will only run in the Kaggle environment\n",
    "# Attempt to import the evaluation API\n",
    "try:\n",
    "    import kaggle_evaluation\n",
    "    \n",
    "    print(\"kaggle_evaluation API imported. Preparing for live submission...\")\n",
    "\n",
    "    # Set up the environment\n",
    "    env = kaggle_evaluation.make_env()\n",
    "    \n",
    "    # Get the iterator for the test set\n",
    "    iter_test = env.iter_test()\n",
    "    \n",
    "    # Loop through each day in the test set\n",
    "    for (test_df_live, lagged_df_live, sample_prediction_df) in iter_test:\n",
    "        \n",
    "        # Extract features (test_df_live already has the lagged features)\n",
    "        X_live = test_df_live[FEATURES]\n",
    "        \n",
    "        # Impute missing values\n",
    "        X_live_imputed = imputer.transform(X_live)\n",
    "        \n",
    "        # Predict returns (returns a 1-element array)\n",
    "        pred_returns_live = lgb_model.predict(X_live_imputed)\n",
    "        \n",
    "        # Get allocation (returns a 1-element array)\n",
    "        allocation_live = get_allocation(pred_returns_live, scaling_factor=SCALING_FACTOR)\n",
    "        \n",
    "        # Set the allocation in the sample prediction DataFrame\n",
    "        sample_prediction_df['allocation'] = allocation_live[0]\n",
    "        \n",
    "        # Submit the prediction for this day\n",
    "        env.predict(sample_prediction_df)\n",
    "        \n",
    "        # print(f\"Submitted allocation {allocation_live[0]:.4f} for date_id {test_df_live['date_id'].values[0]}\")\n",
    "\n",
    "    print(\"Official submission loop complete.\")\n",
    "\n",
    "except ImportError:\n",
    "    print(\"\\nWARNING: 'kaggle_evaluation' not found.\")\n",
    "    print(\"This is expected outside the Kagg/le submission environment.\")\n",
    "    print(\"Cell 10 is designed for the official competition submission.\")\n",
    "except Exception as e:\n",
    "    print(f\"An error occurred during the API submission loop: {e}\")"
   ]
  }
 ],
 "metadata": {
  "kaggle": {
   "accelerator": "nvidiaTeslaT4",
   "dataSources": [
    {
     "databundleVersionId": 13750964,
     "sourceId": 111543,
     "sourceType": "competition"
    }
   ],
   "dockerImageVersionId": 31154,
   "isGpuEnabled": true,
   "isInternetEnabled": true,
   "language": "python",
   "sourceType": "notebook"
  },
  "kernelspec": {
   "display_name": "Python 3",
   "language": "python",
   "name": "python3"
  },
  "language_info": {
   "codemirror_mode": {
    "name": "ipython",
    "version": 3
   },
   "file_extension": ".py",
   "mimetype": "text/x-python",
   "name": "python",
   "nbconvert_exporter": "python",
   "pygments_lexer": "ipython3",
   "version": "3.11.13"
  },
  "papermill": {
   "default_parameters": {},
   "duration": 18.419227,
   "end_time": "2025-10-30T19:00:28.426382",
   "environment_variables": {},
   "exception": null,
   "input_path": "__notebook__.ipynb",
   "output_path": "__notebook__.ipynb",
   "parameters": {},
   "start_time": "2025-10-30T19:00:10.007155",
   "version": "2.6.0"
  }
 },
 "nbformat": 4,
 "nbformat_minor": 5
}
